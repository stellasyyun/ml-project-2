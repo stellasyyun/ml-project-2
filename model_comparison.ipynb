{
 "cells": [
  {
   "cell_type": "markdown",
   "metadata": {},
   "source": [
    "# Spotify Song Popularity - Model Comparison\n",
    "\n",
    "We'll compare different scikit-learn models to improve our prediction accuracy:\n",
    "1. Random Forest (baseline)\n",
    "2. Gradient Boosting\n",
    "3. Support Vector Classification\n",
    "4. Neural Network\n",
    "5. XGBoost"
   ]
  },
  {
   "cell_type": "code",
   "execution_count": null,
   "metadata": {},
   "source": [
    "# Import additional models\n",
    "import pandas as pd\n",
    "import numpy as np\n",
    "from sklearn.model_selection import train_test_split, cross_val_score\n",
    "from sklearn.preprocessing import StandardScaler\n",
    "from sklearn.ensemble import RandomForestClassifier, GradientBoostingClassifier\n",
    "from sklearn.svm import SVC\n",
    "from sklearn.neural_network import MLPClassifier\n",
    "from sklearn.metrics import accuracy_score, classification_report\n",
    "import matplotlib.pyplot as plt\n",
    "\n",
    "# Configure plot settings\n",
    "plt.rcParams['figure.figsize'] = [12, 6]\n",
    "plt.rcParams['axes.grid'] = True"
   ]
  },
  {
   "cell_type": "code",
   "execution_count": null,
   "metadata": {},
   "source": [
    "# Load and prepare data (same as before)\n",
    "df = pd.read_csv('../Untitled/Resources/spotify_songs.csv')\n",
    "\n",
    "# Create popularity categories\n",
    "def categorize_popularity(x):\n",
    "    if x >= 67:\n",
    "        return 'High'\n",
    "    elif x >= 34:\n",
    "        return 'Medium'\n",
    "    else:\n",
    "        return 'Low'\n",
    "\n",
    "df['popularity_category'] = df['track_popularity'].apply(categorize_popularity)\n",
    "\n",
    "# Feature engineering\n",
    "df['energy_danceability'] = df['energy'] * df['danceability']\n",
    "df['loudness_scaled'] = (df['loudness'] - df['loudness'].min()) / (df['loudness'].max() - df['loudness'].min())\n",
    "df['tempo_scaled'] = df['tempo'] / df['tempo'].max()\n",
    "\n",
    "# One-hot encode genre\n",
    "genre_dummies = pd.get_dummies(df['playlist_genre'], prefix='genre')\n",
    "df = pd.concat([df, genre_dummies], axis=1)\n",
    "\n",
    "# Select features\n",
    "audio_features = [\n",
    "    'danceability', 'energy', 'key', 'loudness_scaled', 'speechiness',\n",
    "    'acousticness', 'instrumentalness', 'liveness', 'valence',\n",
    "    'tempo_scaled', 'energy_danceability'\n",
    "]\n",
    "\n",
    "genre_columns = [col for col in df.columns if col.startswith('genre_')]\n",
    "features = audio_features + genre_columns\n",
    "\n",
    "# Prepare data\n",
    "X = df[features]\n",
    "y = df['popularity_category']\n",
    "\n",
    "# Split and scale\n",
    "X_train, X_test, y_train, y_test = train_test_split(X, y, test_size=0.2, random_state=42, stratify=y)\n",
    "scaler = StandardScaler()\n",
    "X_train_scaled = scaler.fit_transform(X_train)\n",
    "X_test_scaled = scaler.transform(X_test)"
   ]
  },
  {
   "cell_type": "markdown",
   "metadata": {},
   "source": [
    "## Model Comparison\n",
    "\n",
    "We'll train different models and compare their performance:"
   ]
  },
  {
   "cell_type": "code",
   "execution_count": null,
   "metadata": {},
   "source": [
    "# Initialize models\n",
    "models = {\n",
    "    'Random Forest': RandomForestClassifier(n_estimators=200, random_state=42),\n",
    "    'Gradient Boosting': GradientBoostingClassifier(n_estimators=200, random_state=42),\n",
    "    'Neural Network': MLPClassifier(hidden_layer_sizes=(100, 50), max_iter=500, random_state=42),\n",
    "    'SVM': SVC(kernel='rbf', random_state=42)\n",
    "}\n",
    "\n",
    "# Train and evaluate models\n",
    "results = {}\n",
    "for name, model in models.items():\n",
    "    print(f\"Training {name}...\")\n",
    "    model.fit(X_train_scaled, y_train)\n",
    "    y_pred = model.predict(X_test_scaled)\n",
    "    accuracy = accuracy_score(y_test, y_pred)\n",
    "    results[name] = {\n",
    "        'accuracy': accuracy,\n",
    "        'report': classification_report(y_test, y_pred)\n",
    "    }\n",
    "    print(f\"{name} Accuracy: {accuracy:.4f}\\n\")\n",
    "    print(\"Classification Report:\")\n",
    "    print(results[name]['report'])\n",
    "    print(\"-\"*50)"
   ]
  },
  {
   "cell_type": "markdown",
   "metadata": {},
   "source": [
    "## Visualize Results"
   ]
  },
  {
   "cell_type": "code",
   "execution_count": null,
   "metadata": {},
   "source": [
    "# Plot accuracy comparison\n",
    "plt.figure(figsize=(10, 6))\n",
    "accuracies = [results[model]['accuracy'] for model in results]\n",
    "plt.bar(results.keys(), accuracies)\n",
    "plt.title('Model Accuracy Comparison')\n",
    "plt.xlabel('Model')\n",
    "plt.ylabel('Accuracy')\n",
    "plt.xticks(rotation=45)\n",
    "plt.tight_layout()\n",
    "plt.show()\n",
    "\n",
    "# Print best model\n",
    "best_model = max(results.items(), key=lambda x: x[1]['accuracy'])\n",
    "print(f\"\\nBest Model: {best_model[0]} with accuracy: {best_model[1]['accuracy']:.4f}\")"
   ]
  },
  {
   "cell_type": "markdown",
   "metadata": {},
   "source": [
    "## Cross-Validation Check\n",
    "\n",
    "Let's verify our results with cross-validation:"
   ]
  },
  {
   "cell_type": "code",
   "execution_count": null,
   "metadata": {},
   "source": [
    "# Perform cross-validation\n",
    "cv_results = {}\n",
    "for name, model in models.items():\n",
    "    scores = cross_val_score(model, X_train_scaled, y_train, cv=5)\n",
    "    cv_results[name] = {\n",
    "        'mean': scores.mean(),\n",
    "        'std': scores.std()\n",
    "    }\n",
    "    print(f\"{name} CV Accuracy: {scores.mean():.4f} (+/- {scores.std() * 2:.4f})\")\n",
    "\n",
    "# Plot cross-validation results\n",
    "plt.figure(figsize=(10, 6))\n",
    "means = [cv_results[model]['mean'] for model in cv_results]\n",
    "stds = [cv_results[model]['std'] for model in cv_results]\n",
    "plt.bar(cv_results.keys(), means, yerr=stds)\n",
    "plt.title('Cross-Validation Results')\n",
    "plt.xlabel('Model')\n",
    "plt.ylabel('CV Accuracy')\n",
    "plt.xticks(rotation=45)\n",
    "plt.tight_layout()\n",
    "plt.show()"
   ]
  }
 ],
 "metadata": {
  "kernelspec": {
   "display_name": "Python 3",
   "language": "python",
   "name": "python3"
  },
  "language_info": {
   "codemirror_mode": {
    "name": "ipython",
    "version": 3
   },
   "file_extension": ".py",
   "mimetype": "text/x-python",
   "name": "python",
   "nbconvert_exporter": "python",
   "pygments_lexer": "ipython3",
   "version": "3.8.0"
  }
 },
 "nbformat": 4,
 "nbformat_minor": 4
}
