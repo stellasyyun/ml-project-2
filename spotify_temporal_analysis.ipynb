{
 "cells": [
  {
   "cell_type": "markdown",
   "metadata": {},
   "source": [
    "# Spotify Temporal and Genre Analysis\n",
    "\n",
    "## Overview\n",
    "This notebook provides additional insights into the Spotify dataset by focusing on temporal patterns and genre-specific characteristics. We'll explore how song features and popularity have evolved over time and how they vary across different genres.\n",
    "\n",
    "## Analysis Goals:\n",
    "1. **Temporal Patterns**\n",
    "   - How have song characteristics changed over time?\n",
    "   - Are there seasonal patterns in song popularity?\n",
    "   - Which genres have gained or lost popularity?\n",
    "\n",
    "2. **Genre Deep Dive**\n",
    "   - What makes songs popular in different genres?\n",
    "   - How do audio features vary across genres?\n",
    "   - Which genres have the most consistent popularity?\n",
    "\n",
    "3. **Feature Interactions**\n",
    "   - How do combinations of features affect popularity?\n",
    "   - Are there genre-specific feature patterns?\n",
    "   - What role does release timing play?"
   ]
  },
  {
   "cell_type": "code",
   "execution_count": 12,
   "metadata": {},
   "outputs": [
    {
     "ename": "ModuleNotFoundError",
     "evalue": "No module named 'pandas'",
     "output_type": "error",
     "traceback": [
      "\u001b[0;31m---------------------------------------------------------------------------\u001b[0m",
      "\u001b[0;31mModuleNotFoundError\u001b[0m                       Traceback (most recent call last)",
      "Cell \u001b[0;32mIn[12], line 2\u001b[0m\n\u001b[1;32m      1\u001b[0m \u001b[38;5;66;03m# Import required libraries\u001b[39;00m\n\u001b[0;32m----> 2\u001b[0m \u001b[38;5;28;01mimport\u001b[39;00m\u001b[38;5;250m \u001b[39m\u001b[38;5;21;01mpandas\u001b[39;00m\u001b[38;5;250m \u001b[39m\u001b[38;5;28;01mas\u001b[39;00m\u001b[38;5;250m \u001b[39m\u001b[38;5;21;01mpd\u001b[39;00m\n\u001b[1;32m      3\u001b[0m \u001b[38;5;28;01mimport\u001b[39;00m\u001b[38;5;250m \u001b[39m\u001b[38;5;21;01mnumpy\u001b[39;00m\u001b[38;5;250m \u001b[39m\u001b[38;5;28;01mas\u001b[39;00m\u001b[38;5;250m \u001b[39m\u001b[38;5;21;01mnp\u001b[39;00m\n\u001b[1;32m      4\u001b[0m \u001b[38;5;28;01mimport\u001b[39;00m\u001b[38;5;250m \u001b[39m\u001b[38;5;21;01mmatplotlib\u001b[39;00m\u001b[38;5;21;01m.\u001b[39;00m\u001b[38;5;21;01mpyplot\u001b[39;00m\u001b[38;5;250m \u001b[39m\u001b[38;5;28;01mas\u001b[39;00m\u001b[38;5;250m \u001b[39m\u001b[38;5;21;01mplt\u001b[39;00m\n",
      "\u001b[0;31mModuleNotFoundError\u001b[0m: No module named 'pandas'"
     ]
    }
   ],
   "source": [
    "# Import required libraries\n",
    "import pandas as pd\n",
    "import numpy as np\n",
    "import matplotlib.pyplot as plt\n",
    "import seaborn as sns\n",
    "from datetime import datetime\n",
    "import calendar\n",
    "\n",
    "# Set style for better visualizations\n",
    "plt.style.use('seaborn')\n",
    "sns.set_palette('viridis')\n",
    "plt.rcParams['figure.figsize'] = [12, 6]"
   ]
  },
  {
   "cell_type": "code",
   "execution_count": null,
   "metadata": {},
   "outputs": [],
   "source": [
    "# Load and prepare data\n",
    "df = pd.read_csv('../Untitled/Resources/spotify_songs.csv')\n",
    "\n",
    "# Convert release date to datetime\n",
    "df['release_date'] = pd.to_datetime(df['track_album_release_date'])\n",
    "df['release_year'] = df['release_date'].dt.year\n",
    "df['release_month'] = df['release_date'].dt.month\n",
    "df['release_season'] = pd.cut(df['release_month'], \n",
    "                             bins=[0, 3, 6, 9, 12], \n",
    "                             labels=['Winter', 'Spring', 'Summer', 'Fall'])"
   ]
  },
  {
   "cell_type": "markdown",
   "metadata": {},
   "source": [
    "## 1. Temporal Analysis"
   ]
  },
  {
   "cell_type": "code",
   "execution_count": null,
   "metadata": {},
   "outputs": [],
   "source": [
    "# Analyze popularity trends over time\n",
    "yearly_popularity = df.groupby('release_year')['track_popularity'].agg(['mean', 'std']).reset_index()\n",
    "\n",
    "plt.figure(figsize=(15, 6))\n",
    "plt.fill_between(yearly_popularity['release_year'],\n",
    "                 yearly_popularity['mean'] - yearly_popularity['std'],\n",
    "                 yearly_popularity['mean'] + yearly_popularity['std'],\n",
    "                 alpha=0.2)\n",
    "plt.plot(yearly_popularity['release_year'], yearly_popularity['mean'], linewidth=2)\n",
    "plt.title('Song Popularity Trends Over Time')\n",
    "plt.xlabel('Release Year')\n",
    "plt.ylabel('Average Popularity Score')\n",
    "plt.show()\n",
    "\n",
    "# Seasonal analysis\n",
    "seasonal_popularity = df.groupby('release_season')['track_popularity'].mean().reset_index()\n",
    "plt.figure()\n",
    "sns.barplot(data=seasonal_popularity, x='release_season', y='track_popularity')\n",
    "plt.title('Average Song Popularity by Season')\n",
    "plt.show()"
   ]
  },
  {
   "cell_type": "markdown",
   "metadata": {},
   "source": [
    "## 2. Genre Analysis"
   ]
  },
  {
   "cell_type": "code",
   "execution_count": null,
   "metadata": {},
   "outputs": [],
   "source": [
    "# Analyze genre characteristics\n",
    "genre_stats = df.groupby('playlist_genre').agg({\n",
    "    'track_popularity': ['mean', 'std'],\n",
    "    'danceability': 'mean',\n",
    "    'energy': 'mean',\n",
    "    'valence': 'mean'\n",
    "}).round(2)\n",
    "\n",
    "# Plot genre characteristics\n",
    "plt.figure(figsize=(15, 8))\n",
    "genre_features = ['danceability', 'energy', 'valence']\n",
    "for i, feature in enumerate(genre_features):\n",
    "    plt.subplot(1, 3, i+1)\n",
    "    sns.boxplot(data=df, x='playlist_genre', y=feature)\n",
    "    plt.xticks(rotation=45)\n",
    "    plt.title(f'{feature.capitalize()} by Genre')\n",
    "plt.tight_layout()\n",
    "plt.show()"
   ]
  },
  {
   "cell_type": "markdown",
   "metadata": {},
   "source": [
    "## 3. Feature Interaction Analysis"
   ]
  },
  {
   "cell_type": "code",
   "execution_count": null,
   "metadata": {},
   "outputs": [],
   "source": [
    "# Create feature combinations\n",
    "df['energy_valence'] = df['energy'] * df['valence']\n",
    "df['dance_energy_ratio'] = df['danceability'] / df['energy']\n",
    "\n",
    "# Analyze feature interactions by genre\n",
    "plt.figure(figsize=(15, 6))\n",
    "sns.scatterplot(data=df, x='energy_valence', y='track_popularity', \n",
    "                hue='playlist_genre', alpha=0.5)\n",
    "plt.title('Popularity vs Energy-Valence Interaction by Genre')\n",
    "plt.show()\n",
    "\n",
    "# Create popularity heatmap\n",
    "pivot_table = df.pivot_table(values='track_popularity', \n",
    "                            index=pd.qcut(df['energy'], 5), \n",
    "                            columns=pd.qcut(df['danceability'], 5),\n",
    "                            aggfunc='mean')\n",
    "\n",
    "plt.figure(figsize=(10, 8))\n",
    "sns.heatmap(pivot_table, annot=True, fmt='.0f', cmap='YlOrRd')\n",
    "plt.title('Popularity Heatmap: Energy vs Danceability')\n",
    "plt.xlabel('Danceability Quintiles')\n",
    "plt.ylabel('Energy Quintiles')\n",
    "plt.show()"
   ]
  },
  {
   "cell_type": "markdown",
   "metadata": {},
   "source": [
    "## 4. Genre Evolution Analysis"
   ]
  },
  {
   "cell_type": "code",
   "execution_count": null,
   "metadata": {},
   "outputs": [],
   "source": [
    "# Analyze how genres have evolved\n",
    "genre_year_stats = df.groupby(['playlist_genre', 'release_year']).agg({\n",
    "    'track_popularity': 'mean',\n",
    "    'energy': 'mean',\n",
    "    'danceability': 'mean'\n",
    "}).reset_index()\n",
    "\n",
    "# Plot genre evolution\n",
    "plt.figure(figsize=(15, 6))\n",
    "for genre in df['playlist_genre'].unique():\n",
    "    genre_data = genre_year_stats[genre_year_stats['playlist_genre'] == genre]\n",
    "    plt.plot(genre_data['release_year'], \n",
    "             genre_data['track_popularity'], \n",
    "             label=genre, \n",
    "             marker='o')\n",
    "\n",
    "plt.title('Genre Popularity Evolution Over Time')\n",
    "plt.xlabel('Release Year')\n",
    "plt.ylabel('Average Popularity')\n",
    "plt.legend(bbox_to_anchor=(1.05, 1), loc='upper left')\n",
    "plt.tight_layout()\n",
    "plt.show()"
   ]
  },
  {
   "cell_type": "markdown",
   "metadata": {},
   "source": [
    "## Key Findings\n",
    "\n",
    "1. **Temporal Patterns**\n",
    "   - Identify any seasonal trends in song releases and popularity\n",
    "   - Note changes in audio features over time\n",
    "   - Highlight years with notably high/low popularity scores\n",
    "\n",
    "2. **Genre Insights**\n",
    "   - Document characteristic features of successful songs in each genre\n",
    "   - Note genres with highest average popularity\n",
    "   - Identify unique feature patterns in different genres\n",
    "\n",
    "3. **Feature Interactions**\n",
    "   - Describe how combined features affect popularity\n",
    "   - Note any genre-specific feature combinations\n",
    "   - Highlight optimal feature ranges for popularity\n",
    "\n",
    "4. **Evolution Trends**\n",
    "   - Document how genres have evolved\n",
    "   - Note emerging or declining trends\n",
    "   - Identify successful adaptation patterns"
   ]
  }
 ],
 "metadata": {
  "kernelspec": {
   "display_name": ".venv",
   "language": "python",
   "name": "python3"
  },
  "language_info": {
   "codemirror_mode": {
    "name": "ipython",
    "version": 3
   },
   "file_extension": ".py",
   "mimetype": "text/x-python",
   "name": "python",
   "nbconvert_exporter": "python",
   "pygments_lexer": "ipython3",
   "version": "3.13.1"
  }
 },
 "nbformat": 4,
 "nbformat_minor": 4
}
