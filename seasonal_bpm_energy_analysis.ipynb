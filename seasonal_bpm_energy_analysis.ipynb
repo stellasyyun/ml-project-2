{
 "cells": [
  {
   "cell_type": "markdown",
   "metadata": {},
   "source": [
    "# Seasonal Patterns in BPM and Energy\n",
    "\n",
    "## Analysis Goals\n",
    "Discover how BPM and energy levels vary across seasons and their impact on song success:\n",
    "\n",
    "1. **Seasonal Patterns**\n",
    "   - How do BPM and energy change across seasons?\n",
    "   - Are summer hits more energetic?\n",
    "   - Do winter songs have different BPM patterns?\n",
    "\n",
    "2. **Success Factors**\n",
    "   - Which BPM-Energy combinations work best in each season?\n",
    "   - Seasonal hit song characteristics\n",
    "   - Genre-specific seasonal trends"
   ]
  },
  {
   "cell_type": "code",
   "execution_count": null,
   "metadata": {},
   "source": [
    "# Import libraries\n",
    "import pandas as pd\n",
    "import numpy as np\n",
    "import matplotlib.pyplot as plt\n",
    "import seaborn as sns\n",
    "from scipy import stats\n",
    "\n",
    "# Set visualization style\n",
    "plt.style.use('seaborn')\n",
    "plt.rcParams['figure.figsize'] = [12, 6]"
   ]
  },
  {
   "cell_type": "markdown",
   "metadata": {},
   "source": [
    "## 1. Data Loading and Seasonal Classification"
   ]
  },
  {
   "cell_type": "code",
   "execution_count": null,
   "metadata": {},
   "source": [
    "# Load data\n",
    "sheet_url = \"https://docs.google.com/spreadsheets/d/1ae96nZRL_kJWb_EEv2avxMOgGClvyc77SpY-VBqVGiY/edit#gid=1052928543\"\n",
    "csv_export_url = sheet_url.replace('/edit#gid=', '/export?format=csv&gid=')\n",
    "df = pd.read_csv(csv_export_url)\n",
    "\n",
    "# Convert release date to datetime\n",
    "df['release_date'] = pd.to_datetime(df['track_album_release_date'])\n",
    "\n",
    "# Extract month and season\n",
    "df['month'] = df['release_date'].dt.month\n",
    "\n",
    "def get_season(month):\n",
    "    if month in [12, 1, 2]:\n",
    "        return 'Winter'\n",
    "    elif month in [3, 4, 5]:\n",
    "        return 'Spring'\n",
    "    elif month in [6, 7, 8]:\n",
    "        return 'Summer'\n",
    "    else:\n",
    "        return 'Fall'\n",
    "\n",
    "df['season'] = df['month'].apply(get_season)\n",
    "\n",
    "# Display seasonal distribution\n",
    "print(\"Songs per Season:\")\n",
    "print(df['season'].value_counts())\n",
    "\n",
    "plt.figure(figsize=(10, 6))\n",
    "df['season'].value_counts().plot(kind='bar')\n",
    "plt.title('Distribution of Songs Across Seasons')\n",
    "plt.xlabel('Season')\n",
    "plt.ylabel('Number of Songs')\n",
    "plt.show()"
   ]
  },
  {
   "cell_type": "markdown",
   "metadata": {},
   "source": [
    "## 2. BPM and Energy by Season"
   ]
  },
  {
   "cell_type": "code",
   "execution_count": null,
   "metadata": {},
   "source": [
    "# Calculate seasonal averages\n",
    "seasonal_stats = df.groupby('season').agg({\n",
    "    'tempo': ['mean', 'std'],\n",
    "    'energy': ['mean', 'std']\n",
    "}).round(2)\n",
    "\n",
    "print(\"Seasonal BPM and Energy Statistics:\")\n",
    "print(seasonal_stats)\n",
    "\n",
    "# Plot seasonal patterns\n",
    "fig, (ax1, ax2) = plt.subplots(1, 2, figsize=(15, 6))\n",
    "\n",
    "# BPM by Season\n",
    "sns.boxplot(data=df, x='season', y='tempo', \n",
    "            order=['Winter', 'Spring', 'Summer', 'Fall'],\n",
    "            ax=ax1)\n",
    "ax1.set_title('BPM Distribution by Season')\n",
    "\n",
    "# Energy by Season\n",
    "sns.boxplot(data=df, x='season', y='energy',\n",
    "            order=['Winter', 'Spring', 'Summer', 'Fall'],\n",
    "            ax=ax2)\n",
    "ax2.set_title('Energy Distribution by Season')\n",
    "\n",
    "plt.tight_layout()\n",
    "plt.show()\n",
    "\n",
    "# Perform ANOVA tests\n",
    "seasons = ['Winter', 'Spring', 'Summer', 'Fall']\n",
    "bpm_by_season = [df[df['season'] == season]['tempo'] for season in seasons]\n",
    "energy_by_season = [df[df['season'] == season]['energy'] for season in seasons]\n",
    "\n",
    "f_bpm, p_bpm = stats.f_oneway(*bpm_by_season)\n",
    "f_energy, p_energy = stats.f_oneway(*energy_by_season)\n",
    "\n",
    "print(\"\\nANOVA Test Results:\")\n",
    "print(f\"BPM: F={f_bpm:.3f}, p={p_bpm:.3f}\")\n",
    "print(f\"Energy: F={f_energy:.3f}, p={p_energy:.3f}\")"
   ]
  },
  {
   "cell_type": "markdown",
   "metadata": {},
   "source": [
    "## 3. Seasonal Success Patterns"
   ]
  },
  {
   "cell_type": "code",
   "execution_count": null,
   "metadata": {},
   "source": [
    "# Define hit threshold (top 10%)\n",
    "hit_threshold = df['track_popularity'].quantile(0.9)\n",
    "\n",
    "# Analyze hits by season\n",
    "seasonal_hits = df[df['track_popularity'] >= hit_threshold].groupby('season').agg({\n",
    "    'tempo': ['mean', 'std'],\n",
    "    'energy': ['mean', 'std'],\n",
    "    'track_popularity': ['mean', 'count']\n",
    "}).round(2)\n",
    "\n",
    "print(\"Hit Song Characteristics by Season:\")\n",
    "print(seasonal_hits)\n",
    "\n",
    "# Plot hit song patterns\n",
    "plt.figure(figsize=(12, 6))\n",
    "for season in seasons:\n",
    "    season_hits = df[(df['season'] == season) & \n",
    "                     (df['track_popularity'] >= hit_threshold)]\n",
    "    plt.scatter(season_hits['tempo'], season_hits['energy'],\n",
    "                label=season, alpha=0.6)\n",
    "\n",
    "plt.title('Hit Songs: BPM vs Energy by Season')\n",
    "plt.xlabel('BPM')\n",
    "plt.ylabel('Energy')\n",
    "plt.legend()\n",
    "plt.show()"
   ]
  },
  {
   "cell_type": "markdown",
   "metadata": {},
   "source": [
    "## 4. Genre-Specific Seasonal Patterns"
   ]
  },
  {
   "cell_type": "code",
   "execution_count": null,
   "metadata": {},
   "source": [
    "# Analyze patterns by genre and season\n",
    "genre_season_stats = df.groupby(['playlist_genre', 'season']).agg({\n",
    "    'tempo': 'mean',\n",
    "    'energy': 'mean',\n",
    "    'track_popularity': ['mean', 'count']\n",
    "}).round(2)\n",
    "\n",
    "print(\"Genre-Season Statistics:\")\n",
    "print(genre_season_stats)\n",
    "\n",
    "# Plot genre-specific seasonal patterns\n",
    "plt.figure(figsize=(15, 10))\n",
    "for i, genre in enumerate(df['playlist_genre'].unique(), 1):\n",
    "    plt.subplot(2, 3, i)\n",
    "    genre_data = df[df['playlist_genre'] == genre]\n",
    "    \n",
    "    sns.scatterplot(data=genre_data, x='tempo', y='energy',\n",
    "                    hue='season', style='season',\n",
    "                    alpha=0.6)\n",
    "    plt.title(genre)\n",
    "    plt.legend(bbox_to_anchor=(1.05, 1))\n",
    "    \n",
    "plt.tight_layout()\n",
    "plt.show()"
   ]
  },
  {
   "cell_type": "markdown",
   "metadata": {},
   "source": [
    "## 5. Seasonal Sweet Spots"
   ]
  },
  {
   "cell_type": "code",
   "execution_count": null,
   "metadata": {},
   "source": [
    "# Create BPM and Energy bins\n",
    "bpm_bins = pd.qcut(df['tempo'], q=4)\n",
    "energy_bins = pd.qcut(df['energy'], q=4)\n",
    "\n",
    "# Analyze success rates by season\n",
    "seasonal_success = []\n",
    "for season in seasons:\n",
    "    season_data = df[df['season'] == season]\n",
    "    \n",
    "    # Calculate success rates for each BPM-Energy combination\n",
    "    success_matrix = season_data.groupby([bpm_bins, energy_bins])['track_popularity'].agg([\n",
    "        'mean',\n",
    "        lambda x: (x >= hit_threshold).mean() * 100\n",
    "    ]).round(2)\n",
    "    success_matrix.columns = ['Avg Popularity', 'Hit Rate %']\n",
    "    \n",
    "    # Find best combination\n",
    "    best_combo = success_matrix.sort_values('Hit Rate %', ascending=False).head(1)\n",
    "    \n",
    "    seasonal_success.append({\n",
    "        'Season': season,\n",
    "        'Best BPM Range': best_combo.index[0][0],\n",
    "        'Best Energy Range': best_combo.index[0][1],\n",
    "        'Hit Rate': best_combo['Hit Rate %'].values[0]\n",
    "    })\n",
    "\n",
    "success_df = pd.DataFrame(seasonal_success)\n",
    "print(\"Best BPM-Energy Combinations by Season:\")\n",
    "print(success_df)\n",
    "\n",
    "# Plot seasonal success patterns\n",
    "plt.figure(figsize=(15, 10))\n",
    "for i, season in enumerate(seasons, 1):\n",
    "    plt.subplot(2, 2, i)\n",
    "    season_data = df[df['season'] == season]\n",
    "    \n",
    "    success_matrix = season_data.pivot_table(\n",
    "        values='track_popularity',\n",
    "        index=pd.qcut(season_data['tempo'], q=4),\n",
    "        columns=pd.qcut(season_data['energy'], q=4),\n",
    "        aggfunc='mean'\n",
    "    )\n",
    "    \n",
    "    sns.heatmap(success_matrix, annot=True, fmt='.1f', cmap='YlOrRd')\n",
    "    plt.title(f'{season} Success Patterns')\n",
    "    plt.xlabel('Energy Quartile')\n",
    "    plt.ylabel('BPM Quartile')\n",
    "    \n",
    "plt.tight_layout()\n",
    "plt.show()"
   ]
  },
  {
   "cell_type": "markdown",
   "metadata": {},
   "source": [
    "## 6. Seasonal Hit Song Recipes"
   ]
  },
  {
   "cell_type": "code",
   "execution_count": null,
   "metadata": {},
   "source": [
    "# Calculate hit song recipes by season\n",
    "print(\"Seasonal Hit Song Recipes:\")\n",
    "for season in seasons:\n",
    "    season_hits = df[(df['season'] == season) & \n",
    "                     (df['track_popularity'] >= hit_threshold)]\n",
    "    \n",
    "    print(f\"\\n{season.upper()} HITS:\")\n",
    "    print(f\"Number of Hits: {len(season_hits)}\")\n",
    "    print(f\"BPM: {season_hits['tempo'].mean():.0f} ± {season_hits['tempo'].std():.0f}\")\n",
    "    print(f\"Energy: {season_hits['energy'].mean():.2f} ± {season_hits['energy'].std():.2f}\")\n",
    "    print(f\"Average Popularity: {season_hits['track_popularity'].mean():.1f}\")\n",
    "    \n",
    "    # Most successful genre\n",
    "    top_genre = season_hits['playlist_genre'].value_counts().index[0]\n",
    "    genre_count = season_hits['playlist_genre'].value_counts().iloc[0]\n",
    "    print(f\"Most Common Genre: {top_genre} ({genre_count} hits)\")\n",
    "\n",
    "# Plot seasonal hit patterns\n",
    "plt.figure(figsize=(12, 6))\n",
    "for season in seasons:\n",
    "    season_hits = df[(df['season'] == season) & \n",
    "                     (df['track_popularity'] >= hit_threshold)]\n",
    "    \n",
    "    sns.kdeplot(data=season_hits, x='tempo', y='energy',\n",
    "                label=season, levels=5)\n",
    "\n",
    "plt.title('Hit Song Patterns by Season')\n",
    "plt.xlabel('BPM')\n",
    "plt.ylabel('Energy')\n",
    "plt.legend()\n",
    "plt.show()"
   ]
  }
 ],
 "metadata": {
  "kernelspec": {
   "display_name": "Python 3",
   "language": "python",
   "name": "python3"
  },
  "language_info": {
   "codemirror_mode": {
    "name": "ipython",
    "version": 3
   },
   "file_extension": ".py",
   "mimetype": "text/x-python",
   "name": "python",
   "nbconvert_exporter": "python",
   "pygments_lexer": "ipython3",
   "version": "3.8.0"
  }
 },
 "nbformat": 4,
 "nbformat_minor": 4
}
